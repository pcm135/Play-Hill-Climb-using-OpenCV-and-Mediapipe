{
 "cells": [
  {
   "cell_type": "code",
   "execution_count": null,
   "id": "f928d1f3",
   "metadata": {},
   "outputs": [],
   "source": [
    "pip install pydirectinput"
   ]
  },
  {
   "cell_type": "code",
   "execution_count": 1,
   "id": "07c16799",
   "metadata": {},
   "outputs": [],
   "source": [
    "import mediapipe as mp\n",
    "import cv2\n",
    "import pydirectinput"
   ]
  },
  {
   "cell_type": "code",
   "execution_count": 2,
   "id": "d9849795",
   "metadata": {},
   "outputs": [],
   "source": [
    "mp_drawing=mp.solutions.drawing_utils\n",
    "mp_holistic=mp.solutions.holistic\n",
    "mp_pose=mp.solutions.pose\n"
   ]
  },
  {
   "cell_type": "code",
   "execution_count": 3,
   "id": "2b664127",
   "metadata": {},
   "outputs": [],
   "source": [
    "cap=cv2.VideoCapture(0)\n",
    "cap.set(3, 720)\n",
    "cap.set(4, 480)\n",
    "\n",
    "status = 0\n",
    "pose=\"\"\n",
    "\n",
    "with mp_holistic.Holistic(min_detection_confidence=0.5, min_tracking_confidence=0.5) as holistic:\n",
    "    while cap.isOpened():\n",
    "        success,img=cap.read()\n",
    "        img=cv2.flip(img,1)\n",
    "        #color\n",
    "        img=cv2.cvtColor(img,cv2.COLOR_BGR2RGB)\n",
    "        results=holistic.process(img)\n",
    "        img=cv2.cvtColor(img,cv2.COLOR_RGB2BGR)\n",
    "        height,width,_=img.shape\n",
    "\n",
    "        start_x1, start_y1, start_x2, start_y2 = width - 120, 0, width, 80\n",
    "        stop_x1, stop_y1, stop_x2, stop_y2 = width - 120, height - 80, width, height\n",
    "        \n",
    "        try:\n",
    "            right_hand = (results.pose_landmarks.landmark[mp_pose.PoseLandmark.LEFT_INDEX].x * width,\n",
    "                                  results.pose_landmarks.landmark[mp_pose.PoseLandmark.LEFT_INDEX].y * height)\n",
    "            y_mid=height//2\n",
    "            \n",
    "            \n",
    "            if (right_hand[0] > start_x1) and (right_hand[1] < start_y2) and status == 0:\n",
    "                pose = \"Game Started\"\n",
    "                pydirectinput.keyDown('space')\n",
    "                pydirectinput.keyUp('space')\n",
    "                status = 1\n",
    "            elif (right_hand[0] > stop_x1) and (right_hand[1] > stop_y1) and (right_hand[1] < stop_y2) and status == 1:\n",
    "                pose = \"Game Stoped\"\n",
    "                pydirectinput.keyDown('esc')\n",
    "                pydirectinput.keyUp('esc')\n",
    "                status = 0\n",
    "            elif(right_hand[1]<y_mid) and status == 1:\n",
    "                pose=\"Move\"\n",
    "                pydirectinput.keyDown('right')\n",
    "                pydirectinput.keyUp('left')\n",
    "            elif(right_hand[1]>y_mid) and status == 1:\n",
    "                pose=\"Break\"\n",
    "                pydirectinput.keyDown('left')\n",
    "                pydirectinput.keyUp('right')\n",
    "            else:\n",
    "                pose=\"Please Start the Game\"\n",
    "        \n",
    "        except:\n",
    "            pass \n",
    "        \n",
    "        # 2. Right hand\n",
    "        mp_drawing.draw_landmarks(img, results.right_hand_landmarks, mp_holistic.HAND_CONNECTIONS, \n",
    "                                 mp_drawing.DrawingSpec(color=(80,22,10), thickness=2, circle_radius=4),\n",
    "                                 mp_drawing.DrawingSpec(color=(80,44,121), thickness=2, circle_radius=2)\n",
    "                                 )\n",
    "\n",
    "        # 3. Left Hand\n",
    "        mp_drawing.draw_landmarks(img, results.left_hand_landmarks, mp_holistic.HAND_CONNECTIONS, \n",
    "                                 mp_drawing.DrawingSpec(color=(121,22,76), thickness=4, circle_radius=4),\n",
    "                                 mp_drawing.DrawingSpec(color=(121,44,250), thickness=2, circle_radius=2)\n",
    "                                 )\n",
    "\n",
    "        # 4. Pose Detections\n",
    "        mp_drawing.draw_landmarks(img, results.pose_landmarks, mp_holistic.POSE_CONNECTIONS, \n",
    "                                 mp_drawing.DrawingSpec(color=( 245, 236, 66), thickness=2, circle_radius=4),\n",
    "                                 mp_drawing.DrawingSpec(color=(255, 255, 255), thickness=5, circle_radius=5)\n",
    "                                 )\n",
    "        \n",
    "        cv2.putText(img ,pose,(20,30),cv2.FONT_HERSHEY_PLAIN,2,(255,255,0),2)\n",
    "        cv2.line(img,(0,y_mid),(width,y_mid),(255,255,255),2)\n",
    "        \n",
    "        if status == 0:\n",
    "            cv2.rectangle(img, (start_x1, start_y1), (start_x2, start_y2), (245, 117, 16), -1)\n",
    "            cv2.putText(img, \"Start\", (start_x1 + 20, start_y1 + 50), cv2.FONT_HERSHEY_PLAIN, 2, (255,255,255), 2)\n",
    "        else:\n",
    "            cv2.rectangle(img, (stop_x1, stop_y1), (stop_x2, stop_y2), (0, 0, 255), -1)\n",
    "            cv2.putText(img, \"Stop\", (stop_x1 + 20, stop_y1 + 50), cv2.FONT_HERSHEY_PLAIN, 2, (255,255,255), 2)\n",
    "        \n",
    "        cv2.imshow('Hill Climb',img)\n",
    "        \n",
    "        if cv2.waitKey(1)==ord('q'):\n",
    "            break;\n",
    "            \n",
    "cap.release()\n",
    "cv2.destroyAllWindows()"
   ]
  },
  {
   "cell_type": "code",
   "execution_count": 20,
   "id": "b69fbac6",
   "metadata": {},
   "outputs": [],
   "source": [
    "cap.release()\n",
    "cv2.destroyAllWindows()"
   ]
  }
 ],
 "metadata": {
  "kernelspec": {
   "display_name": "Python 3 (ipykernel)",
   "language": "python",
   "name": "python3"
  },
  "language_info": {
   "codemirror_mode": {
    "name": "ipython",
    "version": 3
   },
   "file_extension": ".py",
   "mimetype": "text/x-python",
   "name": "python",
   "nbconvert_exporter": "python",
   "pygments_lexer": "ipython3",
   "version": "3.9.7"
  }
 },
 "nbformat": 4,
 "nbformat_minor": 5
}
